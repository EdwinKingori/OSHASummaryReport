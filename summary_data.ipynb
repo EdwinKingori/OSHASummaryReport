{
 "cells": [
  {
   "cell_type": "code",
   "execution_count": 5,
   "metadata": {},
   "outputs": [],
   "source": [
    "import pandas as pd\n",
    "import glob"
   ]
  },
  {
   "cell_type": "markdown",
   "metadata": {},
   "source": [
    "Merging OSHA's Summary data Work-Related Injuries and Illnesses that Occurred between 2016-2022"
   ]
  },
  {
   "cell_type": "code",
   "execution_count": 7,
   "metadata": {},
   "outputs": [
    {
     "name": "stderr",
     "output_type": "stream",
     "text": [
      "/tmp/ipykernel_30271/2673212556.py:7: DtypeWarning: Columns (26) have mixed types. Specify dtype option on import or set low_memory=False.\n",
      "  df = pd.read_csv(file, encoding='utf-8')\n",
      "/tmp/ipykernel_30271/2673212556.py:7: DtypeWarning: Columns (3) have mixed types. Specify dtype option on import or set low_memory=False.\n",
      "  df = pd.read_csv(file, encoding='utf-8')\n"
     ]
    }
   ],
   "source": [
    "path = '/home/eddy/Documents/OSHA_Injury_data_analysis/merged_dfs'\n",
    "all_files = glob.glob(path + \"/*.csv\") \n",
    "\n",
    "data_files = []\n",
    "for file in all_files:\n",
    "    try:\n",
    "        df = pd.read_csv(file, encoding='utf-8')\n",
    "    except UnicodeDecodeError:\n",
    "        df = pd.read_csv(file, encoding='ISO-8859-1')\n",
    "    data_files.append(df)\n",
    "\n",
    "merged_df = pd.concat(data_files, ignore_index=True)\n",
    "merged_df.to_csv(\"merged_summary.csv\", index=False)"
   ]
  }
 ],
 "metadata": {
  "kernelspec": {
   "display_name": "Python 3",
   "language": "python",
   "name": "python3"
  },
  "language_info": {
   "codemirror_mode": {
    "name": "ipython",
    "version": 3
   },
   "file_extension": ".py",
   "mimetype": "text/x-python",
   "name": "python",
   "nbconvert_exporter": "python",
   "pygments_lexer": "ipython3",
   "version": "3.10.12"
  }
 },
 "nbformat": 4,
 "nbformat_minor": 2
}
